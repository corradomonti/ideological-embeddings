{
 "cells": [
  {
   "cell_type": "code",
   "execution_count": 1,
   "id": "bb571e4e",
   "metadata": {},
   "outputs": [
    {
     "name": "stderr",
     "output_type": "stream",
     "text": [
      "/Users/corrado/.conda/envs/test-ideology2vec/lib/python3.7/site-packages/ipykernel_launcher.py:2: TqdmExperimentalWarning: Using `tqdm.autonotebook.tqdm` in notebook mode. Use `tqdm.tqdm` instead to force console mode (e.g. in jupyter console)\n",
      "  \n"
     ]
    }
   ],
   "source": [
    "import tensorflow as tf\n",
    "import tqdm.autonotebook as tqdm\n",
    "import numpy as np"
   ]
  },
  {
   "cell_type": "code",
   "execution_count": 2,
   "id": "4d893ff4",
   "metadata": {},
   "outputs": [],
   "source": [
    "import ideology2vec as i2v"
   ]
  },
  {
   "cell_type": "markdown",
   "id": "8c76f8a8",
   "metadata": {},
   "source": [
    "### Let's define a complete graph with N=10 nodes..."
   ]
  },
  {
   "cell_type": "code",
   "execution_count": 3,
   "id": "6d975824",
   "metadata": {},
   "outputs": [],
   "source": [
    "N = 10\n",
    "graph = {i: {j for j in range(N) if i != j} for i in range(N)}"
   ]
  },
  {
   "cell_type": "markdown",
   "id": "e31c45cd",
   "metadata": {},
   "source": [
    "## ...and a random distribution on two topics for many items."
   ]
  },
  {
   "cell_type": "code",
   "execution_count": 4,
   "id": "b94d7ba2",
   "metadata": {},
   "outputs": [],
   "source": [
    "K = 2\n",
    "M = N * 1000\n",
    "i2topics = np.random.dirichlet([1, 1], M)"
   ]
  },
  {
   "cell_type": "markdown",
   "id": "9b3fa4ae",
   "metadata": {},
   "source": [
    "### Now, let's say that the first topic divides odd from even nodes, while the second topic produces polarization between high-valued and low-valued nodes"
   ]
  },
  {
   "cell_type": "code",
   "execution_count": 5,
   "id": "6b2d8fb4",
   "metadata": {},
   "outputs": [],
   "source": [
    "group_A = set(range(N // 2))\n",
    "group_B = set(range(0, N, 2))\n",
    "\n",
    "i2nodes = {}\n",
    "for i in range(M):\n",
    "    group = group_A if i2topics[i, 0] > i2topics[i, 1] else group_B\n",
    "    if np.random.random() > .5:\n",
    "        group = set(range(N)) - group\n",
    "    i2nodes[i] = group"
   ]
  },
  {
   "cell_type": "markdown",
   "id": "b4d56288",
   "metadata": {},
   "source": [
    "### Let's run our model"
   ]
  },
  {
   "cell_type": "code",
   "execution_count": 8,
   "id": "022f8acf",
   "metadata": {},
   "outputs": [
    {
     "data": {
      "application/vnd.jupyter.widget-view+json": {
       "model_id": "336c22a50fd04571b5bcbdf59b2b7ece",
       "version_major": 2,
       "version_minor": 0
      },
      "text/plain": [
       "Building activations:   0%|          | 0/10000 [00:00<?, ?it/s]"
      ]
     },
     "metadata": {},
     "output_type": "display_data"
    },
    {
     "data": {
      "application/vnd.jupyter.widget-view+json": {
       "model_id": "c10ef28d2d4f4e8ab2c29968b0bfc9d5",
       "version_major": 2,
       "version_minor": 0
      },
      "text/plain": [
       "Optimizing:   0%|          | 0/2000000 [00:00<?, ?it/s]"
      ]
     },
     "metadata": {},
     "output_type": "display_data"
    }
   ],
   "source": [
    "polarities, interests, loss = i2v.compute_ideological_embeddings(\n",
    "    i2nodes, graph, i2topics\n",
    ")"
   ]
  },
  {
   "cell_type": "markdown",
   "id": "8fbb4f60",
   "metadata": {},
   "source": [
    "### Show obtained polarities for each node!"
   ]
  },
  {
   "cell_type": "code",
   "execution_count": 9,
   "id": "45875c2a",
   "metadata": {},
   "outputs": [
    {
     "data": {
      "text/plain": [
       "array([[ 4.001921 , -3.9352772],\n",
       "       [ 3.8667974,  3.808708 ],\n",
       "       [ 4.005544 , -3.924037 ],\n",
       "       [ 3.867007 ,  3.793782 ],\n",
       "       [ 3.9835205, -3.9224255],\n",
       "       [-3.99323  ,  3.917592 ],\n",
       "       [-3.8638144, -3.8156762],\n",
       "       [-3.9924886,  3.9181643],\n",
       "       [-3.882939 , -3.8114507],\n",
       "       [-4.0004992,  3.9024622]], dtype=float32)"
      ]
     },
     "execution_count": 9,
     "metadata": {},
     "output_type": "execute_result"
    }
   ],
   "source": [
    "polarities"
   ]
  },
  {
   "cell_type": "code",
   "execution_count": null,
   "id": "31c28059",
   "metadata": {},
   "outputs": [],
   "source": []
  }
 ],
 "metadata": {
  "kernelspec": {
   "display_name": "test-ideology2vec",
   "language": "python",
   "name": "test-ideology2vec"
  },
  "language_info": {
   "codemirror_mode": {
    "name": "ipython",
    "version": 3
   },
   "file_extension": ".py",
   "mimetype": "text/x-python",
   "name": "python",
   "nbconvert_exporter": "python",
   "pygments_lexer": "ipython3",
   "version": "3.7.11"
  }
 },
 "nbformat": 4,
 "nbformat_minor": 5
}
